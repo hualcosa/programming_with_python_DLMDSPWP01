{
 "cells": [
  {
   "cell_type": "code",
   "execution_count": 1,
   "metadata": {},
   "outputs": [
    {
     "name": "stderr",
     "output_type": "stream",
     "text": [
      "/home/hualcosa/anaconda3/envs/programming_with_python_wa/lib/python3.12/site-packages/tqdm/auto.py:21: TqdmWarning: IProgress not found. Please update jupyter and ipywidgets. See https://ipywidgets.readthedocs.io/en/stable/user_install.html\n",
      "  from .autonotebook import tqdm as notebook_tqdm\n"
     ]
    }
   ],
   "source": [
    "from datasets import load_dataset\n",
    "import pandas as pd\n",
    "from collections import Counter\n",
    "import re\n",
    "import numpy as np\n",
    "import warnings\n",
    "warnings.filterwarnings(\"ignore\")"
   ]
  },
  {
   "cell_type": "code",
   "execution_count": 2,
   "metadata": {},
   "outputs": [],
   "source": [
    "# Set the maximum number of columns to display\n",
    "pd.set_option(\"display.max_columns\", None)\n",
    "\n",
    "# Set the maximum width of columns\n",
    "pd.set_option(\"display.max_colwidth\", None)\n",
    "\n",
    "# Set the width of the entire display\n",
    "pd.set_option(\"display.width\", 1000)\n"
   ]
  },
  {
   "cell_type": "markdown",
   "metadata": {},
   "source": [
    "### loading datasets"
   ]
  },
  {
   "cell_type": "code",
   "execution_count": 3,
   "metadata": {},
   "outputs": [],
   "source": [
    "train_dataset = load_dataset(\"Hate-speech-CNERG/hatexplain\", split=\"train\", trust_remote_code=True)\n",
    "validation_dataset = load_dataset(\"Hate-speech-CNERG/hatexplain\", split=\"validation\", trust_remote_code=True)\n",
    "test_dataset = load_dataset(\"Hate-speech-CNERG/hatexplain\", split=\"test\", trust_remote_code=True)\n"
   ]
  },
  {
   "cell_type": "code",
   "execution_count": 4,
   "metadata": {},
   "outputs": [
    {
     "data": {
      "text/plain": [
       "(15383, 4)"
      ]
     },
     "execution_count": 4,
     "metadata": {},
     "output_type": "execute_result"
    }
   ],
   "source": [
    "train_dataset.shape"
   ]
  },
  {
   "cell_type": "code",
   "execution_count": 5,
   "metadata": {},
   "outputs": [
    {
     "data": {
      "text/plain": [
       "(1922, 4)"
      ]
     },
     "execution_count": 5,
     "metadata": {},
     "output_type": "execute_result"
    }
   ],
   "source": [
    "validation_dataset.shape"
   ]
  },
  {
   "cell_type": "code",
   "execution_count": 6,
   "metadata": {},
   "outputs": [
    {
     "data": {
      "text/plain": [
       "(1924, 4)"
      ]
     },
     "execution_count": 6,
     "metadata": {},
     "output_type": "execute_result"
    }
   ],
   "source": [
    "test_dataset.shape"
   ]
  },
  {
   "cell_type": "code",
   "execution_count": 7,
   "metadata": {},
   "outputs": [],
   "source": [
    "vote_mapping = {\n",
    "    0: 'normal',\n",
    "    1: 'offensive',\n",
    "    2: 'hate speech' \n",
    "}\n",
    "\n",
    "def calculate_majority_vote(df, vote_mapping):\n",
    "    def get_majority_vote(annotators):\n",
    "        labels = annotators[\"label\"]\n",
    "        vote_counts = Counter(labels)\n",
    "        majority_vote = max(vote_counts, key=vote_counts.get)\n",
    "        return vote_mapping[majority_vote]\n",
    "\n",
    "    df[\"majority_vote\"] = df[\"annotators\"].apply(get_majority_vote)\n",
    "    return df\n"
   ]
  },
  {
   "cell_type": "code",
   "execution_count": 8,
   "metadata": {},
   "outputs": [],
   "source": [
    "\n",
    "def preprocess_tokens(array):\n",
    "    raw_string = ' '.join(array)\n",
    "    # removing tags, leading, and trailing black spaces\n",
    "    pattern = r'<[^>]+>'\n",
    "    clean_string = re.sub(pattern, \"\", raw_string).strip()\n",
    "    return clean_string"
   ]
  },
  {
   "cell_type": "code",
   "execution_count": 9,
   "metadata": {},
   "outputs": [],
   "source": [
    "def process_relevant_tokens(row):\n",
    "    # if the message contains relevant tokens for the review, extract and process it\n",
    "    if row['rationales'].size > 0:\n",
    "        try:\n",
    "            # 1. Compute the intersection of relevant tokens\n",
    "            rationales = np.vstack(row[\"rationales\"])\n",
    "            intersection_mask = np.all(rationales == 1, axis=0)\n",
    "            # 2. Apply the mask to post_tokens\n",
    "            filtered_tokens = row[\"post_tokens\"][intersection_mask]\n",
    "            # 3. Preprocess the resulting token array\n",
    "            preprocessed_text = preprocess_tokens(filtered_tokens)\n",
    "\n",
    "            return preprocessed_text\n",
    "        except:\n",
    "            # return the original rationales in case it is not possible to process them\n",
    "            print(\"Error processing rationales for message: \", row['id'])\n",
    "            return rationales\n",
    "    # if the message is normal, return None\n",
    "    return None\n"
   ]
  },
  {
   "cell_type": "code",
   "execution_count": 10,
   "metadata": {},
   "outputs": [],
   "source": [
    "def process_dataframe(frame):\n",
    "    vote_mapping = {0: \"normal\", 1: \"offensive\", 2: \"hate speech\"}\n",
    "    # extracts the most common label among the annotators\n",
    "    # preprocess the tokens that were deemed relevant by the annotators\n",
    "    frame[\"relevant_pieces\"] = frame.apply(process_relevant_tokens, axis=1)\n",
    "    frame = calculate_majority_vote(frame, vote_mapping)\n",
    "    # preprocesses the tokens\n",
    "    frame[\"clean_message\"] = frame[\"post_tokens\"].apply(preprocess_tokens)\n",
    "    \n",
    "    ftr = frame[\"majority_vote\"].isin([\"normal\", \"hate speech\"])\n",
    "    return frame[ftr][['id', \"clean_message\", \"majority_vote\", \"relevant_pieces\"]]"
   ]
  },
  {
   "cell_type": "code",
   "execution_count": 11,
   "metadata": {},
   "outputs": [],
   "source": [
    "# converting datasets to pandas dataframes\n",
    "train_dataset = train_dataset.to_pandas()\n",
    "validation_dataset = validation_dataset.to_pandas()\n",
    "test_dataset = test_dataset.to_pandas()"
   ]
  },
  {
   "cell_type": "code",
   "execution_count": 12,
   "metadata": {},
   "outputs": [],
   "source": [
    "# removing row with inconsistent annotation format\n",
    "train_dataset = train_dataset[train_dataset[\"id\"] != \"24439295_gab\"]"
   ]
  },
  {
   "cell_type": "code",
   "execution_count": 13,
   "metadata": {},
   "outputs": [],
   "source": [
    "train_dataset = process_dataframe(train_dataset)\n",
    "validation_dataset = process_dataframe(validation_dataset)\n",
    "test_dataset = process_dataframe(test_dataset)"
   ]
  },
  {
   "cell_type": "code",
   "execution_count": 14,
   "metadata": {},
   "outputs": [
    {
     "data": {
      "text/html": [
       "<div>\n",
       "<style scoped>\n",
       "    .dataframe tbody tr th:only-of-type {\n",
       "        vertical-align: middle;\n",
       "    }\n",
       "\n",
       "    .dataframe tbody tr th {\n",
       "        vertical-align: top;\n",
       "    }\n",
       "\n",
       "    .dataframe thead th {\n",
       "        text-align: right;\n",
       "    }\n",
       "</style>\n",
       "<table border=\"1\" class=\"dataframe\">\n",
       "  <thead>\n",
       "    <tr style=\"text-align: right;\">\n",
       "      <th></th>\n",
       "      <th>id</th>\n",
       "      <th>clean_message</th>\n",
       "      <th>majority_vote</th>\n",
       "      <th>relevant_pieces</th>\n",
       "    </tr>\n",
       "  </thead>\n",
       "  <tbody>\n",
       "    <tr>\n",
       "      <th>0</th>\n",
       "      <td>23107796_gab</td>\n",
       "      <td>u really think i would not have been raped by feral hindu or muslim back in india or bangladesh and a neo nazi would rape me as well just to see me cry</td>\n",
       "      <td>hate speech</td>\n",
       "      <td>raped neo nazi</td>\n",
       "    </tr>\n",
       "    <tr>\n",
       "      <th>1</th>\n",
       "      <td>9995600_gab</td>\n",
       "      <td>the uk has threatened to return radioactive waste to the eu if an agreement cannot be reached can not we keep the radioactive waste and send back all the paki migrants instead</td>\n",
       "      <td>hate speech</td>\n",
       "      <td>paki</td>\n",
       "    </tr>\n",
       "    <tr>\n",
       "      <th>2</th>\n",
       "      <td>1227920812235051008_twitter</td>\n",
       "      <td>if english is not imposition then hindi is also not imposition shut up chutiya retards stophindiimposition</td>\n",
       "      <td>hate speech</td>\n",
       "      <td>retards</td>\n",
       "    </tr>\n",
       "    <tr>\n",
       "      <th>3</th>\n",
       "      <td>1204931715778543624_twitter</td>\n",
       "      <td>no liberal congratulated hindu refugees post cab because they hate hindus</td>\n",
       "      <td>hate speech</td>\n",
       "      <td>hate hindus</td>\n",
       "    </tr>\n",
       "    <tr>\n",
       "      <th>4</th>\n",
       "      <td>1179102559241244672_twitter</td>\n",
       "      <td>he said bro even your texts sound redneck whatever the fuck that means 😂 🤷 🏻 ‍ ♂️</td>\n",
       "      <td>hate speech</td>\n",
       "      <td>redneck</td>\n",
       "    </tr>\n",
       "  </tbody>\n",
       "</table>\n",
       "</div>"
      ],
      "text/plain": [
       "                            id                                                                                                                                                                    clean_message majority_vote relevant_pieces\n",
       "0                 23107796_gab                          u really think i would not have been raped by feral hindu or muslim back in india or bangladesh and a neo nazi would rape me as well just to see me cry   hate speech  raped neo nazi\n",
       "1                  9995600_gab  the uk has threatened to return radioactive waste to the eu if an agreement cannot be reached can not we keep the radioactive waste and send back all the paki migrants instead   hate speech            paki\n",
       "2  1227920812235051008_twitter                                                                       if english is not imposition then hindi is also not imposition shut up chutiya retards stophindiimposition   hate speech         retards\n",
       "3  1204931715778543624_twitter                                                                                                        no liberal congratulated hindu refugees post cab because they hate hindus   hate speech     hate hindus\n",
       "4  1179102559241244672_twitter                                                                                                he said bro even your texts sound redneck whatever the fuck that means 😂 🤷 🏻 ‍ ♂️   hate speech         redneck"
      ]
     },
     "execution_count": 14,
     "metadata": {},
     "output_type": "execute_result"
    }
   ],
   "source": [
    "train_dataset.head()"
   ]
  },
  {
   "cell_type": "code",
   "execution_count": 15,
   "metadata": {},
   "outputs": [
    {
     "data": {
      "text/html": [
       "<div>\n",
       "<style scoped>\n",
       "    .dataframe tbody tr th:only-of-type {\n",
       "        vertical-align: middle;\n",
       "    }\n",
       "\n",
       "    .dataframe tbody tr th {\n",
       "        vertical-align: top;\n",
       "    }\n",
       "\n",
       "    .dataframe thead th {\n",
       "        text-align: right;\n",
       "    }\n",
       "</style>\n",
       "<table border=\"1\" class=\"dataframe\">\n",
       "  <thead>\n",
       "    <tr style=\"text-align: right;\">\n",
       "      <th></th>\n",
       "      <th>id</th>\n",
       "      <th>clean_message</th>\n",
       "      <th>majority_vote</th>\n",
       "      <th>relevant_pieces</th>\n",
       "    </tr>\n",
       "  </thead>\n",
       "  <tbody>\n",
       "    <tr>\n",
       "      <th>18</th>\n",
       "      <td>15473637_gab</td>\n",
       "      <td>democrats from minnesota leftist muzzie shithole are the dumbest anti americans there are klobuchar one of the reps is a dumb bitch who has a moronic position on the tax bill fuck this stupid woman</td>\n",
       "      <td>normal</td>\n",
       "      <td>muzzie</td>\n",
       "    </tr>\n",
       "    <tr>\n",
       "      <th>20</th>\n",
       "      <td>1144975366546759681_twitter</td>\n",
       "      <td>new to nsfw twitter •  • us • soft hard dom • single • lesbian • she her lt  rt for mutual</td>\n",
       "      <td>hate speech</td>\n",
       "      <td>hard dom • single • lesbian</td>\n",
       "    </tr>\n",
       "    <tr>\n",
       "      <th>21</th>\n",
       "      <td>21930231_gab</td>\n",
       "      <td>glad to hear do not be a sheltered cuck for any side lefties are gay as fuck but gayness is contagious to the right as well but i think you already grasp that</td>\n",
       "      <td>normal</td>\n",
       "      <td>cuck gay</td>\n",
       "    </tr>\n",
       "    <tr>\n",
       "      <th>25</th>\n",
       "      <td>11432298_gab</td>\n",
       "      <td>concentrate on white genocide jews elites corrupt politicians etc and leave christianity alone</td>\n",
       "      <td>hate speech</td>\n",
       "      <td>genocide jews</td>\n",
       "    </tr>\n",
       "    <tr>\n",
       "      <th>26</th>\n",
       "      <td>22286917_gab</td>\n",
       "      <td>merkel needs to be pack raped by a gang of muzzos then ass fucked by african niggers i hope she gets aids and dies in pain</td>\n",
       "      <td>normal</td>\n",
       "      <td>pack raped by a gang of muzzos hope she gets aids</td>\n",
       "    </tr>\n",
       "  </tbody>\n",
       "</table>\n",
       "</div>"
      ],
      "text/plain": [
       "                             id                                                                                                                                                                                          clean_message majority_vote                                    relevant_pieces\n",
       "18                 15473637_gab  democrats from minnesota leftist muzzie shithole are the dumbest anti americans there are klobuchar one of the reps is a dumb bitch who has a moronic position on the tax bill fuck this stupid woman        normal                                             muzzie\n",
       "20  1144975366546759681_twitter                                                                                                             new to nsfw twitter •  • us • soft hard dom • single • lesbian • she her lt  rt for mutual   hate speech                        hard dom • single • lesbian\n",
       "21                 21930231_gab                                         glad to hear do not be a sheltered cuck for any side lefties are gay as fuck but gayness is contagious to the right as well but i think you already grasp that        normal                                           cuck gay\n",
       "25                 11432298_gab                                                                                                         concentrate on white genocide jews elites corrupt politicians etc and leave christianity alone   hate speech                                      genocide jews\n",
       "26                 22286917_gab                                                                             merkel needs to be pack raped by a gang of muzzos then ass fucked by african niggers i hope she gets aids and dies in pain        normal  pack raped by a gang of muzzos hope she gets aids"
      ]
     },
     "execution_count": 15,
     "metadata": {},
     "output_type": "execute_result"
    }
   ],
   "source": [
    "validation_dataset.head()"
   ]
  },
  {
   "cell_type": "code",
   "execution_count": 16,
   "metadata": {},
   "outputs": [
    {
     "data": {
      "text/html": [
       "<div>\n",
       "<style scoped>\n",
       "    .dataframe tbody tr th:only-of-type {\n",
       "        vertical-align: middle;\n",
       "    }\n",
       "\n",
       "    .dataframe tbody tr th {\n",
       "        vertical-align: top;\n",
       "    }\n",
       "\n",
       "    .dataframe thead th {\n",
       "        text-align: right;\n",
       "    }\n",
       "</style>\n",
       "<table border=\"1\" class=\"dataframe\">\n",
       "  <thead>\n",
       "    <tr style=\"text-align: right;\">\n",
       "      <th></th>\n",
       "      <th>id</th>\n",
       "      <th>clean_message</th>\n",
       "      <th>majority_vote</th>\n",
       "      <th>relevant_pieces</th>\n",
       "    </tr>\n",
       "  </thead>\n",
       "  <tbody>\n",
       "    <tr>\n",
       "      <th>2</th>\n",
       "      <td>1252707503441313794_twitter</td>\n",
       "      <td>why are you repeating yourself are you a little retarded</td>\n",
       "      <td>hate speech</td>\n",
       "      <td>retarded</td>\n",
       "    </tr>\n",
       "    <tr>\n",
       "      <th>3</th>\n",
       "      <td>1103385226921762816_twitter</td>\n",
       "      <td>well she ’ muslim so of course she hates the jews jew hatred is one of the defining feature of islam</td>\n",
       "      <td>normal</td>\n",
       "      <td>muslim she hates the jews jew hatred islam</td>\n",
       "    </tr>\n",
       "    <tr>\n",
       "      <th>4</th>\n",
       "      <td>1169443635869487105_twitter</td>\n",
       "      <td>lol not me i don ’ t deal with bms not outside children ’ ss i leave that ghetto mess for everybody else 😂 😂 😂</td>\n",
       "      <td>hate speech</td>\n",
       "      <td>ghetto</td>\n",
       "    </tr>\n",
       "    <tr>\n",
       "      <th>5</th>\n",
       "      <td>17372469_gab</td>\n",
       "      <td>an these nigger biches look like godzilla nasty</td>\n",
       "      <td>normal</td>\n",
       "      <td>nigger</td>\n",
       "    </tr>\n",
       "    <tr>\n",
       "      <th>6</th>\n",
       "      <td>1168407844095483904_twitter</td>\n",
       "      <td>yeah humnh what how do i use this app i ’ m alittle retarded 👹</td>\n",
       "      <td>hate speech</td>\n",
       "      <td>retarded</td>\n",
       "    </tr>\n",
       "  </tbody>\n",
       "</table>\n",
       "</div>"
      ],
      "text/plain": [
       "                            id                                                                                                   clean_message majority_vote                             relevant_pieces\n",
       "2  1252707503441313794_twitter                                                        why are you repeating yourself are you a little retarded   hate speech                                    retarded\n",
       "3  1103385226921762816_twitter            well she ’ muslim so of course she hates the jews jew hatred is one of the defining feature of islam        normal  muslim she hates the jews jew hatred islam\n",
       "4  1169443635869487105_twitter  lol not me i don ’ t deal with bms not outside children ’ ss i leave that ghetto mess for everybody else 😂 😂 😂   hate speech                                      ghetto\n",
       "5                 17372469_gab                                                                 an these nigger biches look like godzilla nasty        normal                                      nigger\n",
       "6  1168407844095483904_twitter                                                  yeah humnh what how do i use this app i ’ m alittle retarded 👹   hate speech                                    retarded"
      ]
     },
     "execution_count": 16,
     "metadata": {},
     "output_type": "execute_result"
    }
   ],
   "source": [
    "test_dataset.head()"
   ]
  },
  {
   "cell_type": "code",
   "execution_count": 17,
   "metadata": {},
   "outputs": [],
   "source": [
    "# since in this assignment we will not be training a model but rather using LLMs to perform the inference for us,\n",
    "# I will concatenate the three splits into a full dataset and save it.\n",
    "final = pd.concat(\n",
    " [train_dataset, validation_dataset, test_dataset]   \n",
    ")"
   ]
  },
  {
   "cell_type": "code",
   "execution_count": 18,
   "metadata": {},
   "outputs": [
    {
     "data": {
      "text/plain": [
       "(11414, 4)"
      ]
     },
     "execution_count": 18,
     "metadata": {},
     "output_type": "execute_result"
    }
   ],
   "source": [
    "final.shape"
   ]
  },
  {
   "cell_type": "code",
   "execution_count": 19,
   "metadata": {},
   "outputs": [],
   "source": [
    "final.to_csv('../data/hateXplain_clean.csv', index=False)"
   ]
  }
 ],
 "metadata": {
  "kernelspec": {
   "display_name": "programming_with_python_wa",
   "language": "python",
   "name": "python3"
  },
  "language_info": {
   "codemirror_mode": {
    "name": "ipython",
    "version": 3
   },
   "file_extension": ".py",
   "mimetype": "text/x-python",
   "name": "python",
   "nbconvert_exporter": "python",
   "pygments_lexer": "ipython3",
   "version": "3.12.5"
  }
 },
 "nbformat": 4,
 "nbformat_minor": 2
}
