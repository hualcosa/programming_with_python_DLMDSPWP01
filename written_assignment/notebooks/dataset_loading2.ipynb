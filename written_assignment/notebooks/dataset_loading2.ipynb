{
 "cells": [
  {
   "cell_type": "markdown",
   "metadata": {},
   "source": [
    "##### This notebook contain the preprocessing steps necessary in the stormfront dataset.\n",
    "##### They are necessary for performing experiment3.\n",
    "##### The final output of this notebook are `stormfront_train.csv` and `stormfront_test.csv`."
   ]
  },
  {
   "cell_type": "code",
   "execution_count": 1,
   "metadata": {},
   "outputs": [
    {
     "name": "stderr",
     "output_type": "stream",
     "text": [
      "/home/hualcosa/anaconda3/envs/programming_with_python_wa/lib/python3.12/site-packages/tqdm/auto.py:21: TqdmWarning: IProgress not found. Please update jupyter and ipywidgets. See https://ipywidgets.readthedocs.io/en/stable/user_install.html\n",
      "  from .autonotebook import tqdm as notebook_tqdm\n"
     ]
    },
    {
     "name": "stdout",
     "output_type": "stream",
     "text": [
      "Number of training examples: 10944\n",
      "\n",
      "Sample from training set:\n",
      "{'text': 'As of March 13th , 2014 , the booklet had been downloaded over 18,300 times and counting .', 'user_id': 572066, 'subforum_id': 1346, 'num_contexts': 0, 'label': 0}\n"
     ]
    }
   ],
   "source": [
    "from datasets import load_dataset\n",
    "import pandas as pd\n",
    "# Load the dataset\n",
    "dataset = load_dataset(\"odegiber/hate_speech18\")\n",
    "\n",
    "# Access the data splits\n",
    "train_data = dataset[\"train\"]\n",
    "\n",
    "# Print the number of examples in the dataset\n",
    "print(f\"Number of training examples: {len(train_data)}\")\n",
    "\n",
    "# Checking one example \n",
    "print(\"\\nSample from training set:\")\n",
    "print(train_data[0])\n"
   ]
  },
  {
   "cell_type": "code",
   "execution_count": 2,
   "metadata": {},
   "outputs": [],
   "source": [
    "# converting dataset to a pandas dataframe\n",
    "train_data = train_data.to_pandas()"
   ]
  },
  {
   "cell_type": "code",
   "execution_count": 3,
   "metadata": {},
   "outputs": [
    {
     "data": {
      "text/plain": [
       "text            In order to help increase the booklets downloa...\n",
       "user_id                                                    572066\n",
       "subforum_id                                                  1346\n",
       "num_contexts                                                    0\n",
       "label                                                           0\n",
       "Name: 1, dtype: object"
      ]
     },
     "execution_count": 3,
     "metadata": {},
     "output_type": "execute_result"
    }
   ],
   "source": [
    "train_data.iloc[1]"
   ]
  },
  {
   "cell_type": "code",
   "execution_count": 4,
   "metadata": {},
   "outputs": [
    {
     "data": {
      "text/plain": [
       "184"
      ]
     },
     "execution_count": 4,
     "metadata": {},
     "output_type": "execute_result"
    }
   ],
   "source": [
    "# checking for duplicated messages\n",
    "train_data.duplicated(subset=[\"text\"]).sum()"
   ]
  },
  {
   "cell_type": "code",
   "execution_count": 5,
   "metadata": {},
   "outputs": [],
   "source": [
    "# removing duplicates\n",
    "train_data = train_data.drop_duplicates(subset=['text'], keep='first')"
   ]
  },
  {
   "cell_type": "code",
   "execution_count": 6,
   "metadata": {},
   "outputs": [],
   "source": [
    "# sample 500 normal messages and 500 hate messages\n",
    "\n",
    "normal_messages = train_data[train_data['label'] == 0].sample(500, random_state=42)\n",
    "hate_messages = train_data[train_data['label'] == 1].sample(500, random_state=42)\n",
    "\n",
    "final = pd.concat([normal_messages, hate_messages]).reset_index(drop=True)"
   ]
  },
  {
   "cell_type": "code",
   "execution_count": 7,
   "metadata": {},
   "outputs": [],
   "source": [
    "# the train dataset will be used in experiment3 notebook to sample the few-shot examples\n",
    "stormfront_train = pd.concat([normal_messages[:450], hate_messages[:450]]).reset_index(drop=True)\n",
    "\n",
    "# the test dataset will be used in experiment3 notebook as the messages that will be evaluated\n",
    "stormfront_test = pd.concat([normal_messages[450:], hate_messages[450:]]).reset_index(\n",
    "    drop=True\n",
    ")\n"
   ]
  },
  {
   "cell_type": "code",
   "execution_count": 8,
   "metadata": {},
   "outputs": [
    {
     "data": {
      "text/plain": [
       "label\n",
       "0    450\n",
       "1    450\n",
       "Name: count, dtype: int64"
      ]
     },
     "execution_count": 8,
     "metadata": {},
     "output_type": "execute_result"
    }
   ],
   "source": [
    "# the train dataset will have 900 messages, half normal; half hate speech\n",
    "stormfront_train.label.value_counts()"
   ]
  },
  {
   "cell_type": "code",
   "execution_count": 9,
   "metadata": {},
   "outputs": [
    {
     "data": {
      "text/plain": [
       "label\n",
       "0    50\n",
       "1    50\n",
       "Name: count, dtype: int64"
      ]
     },
     "execution_count": 9,
     "metadata": {},
     "output_type": "execute_result"
    }
   ],
   "source": [
    "# the test dataset will have 100 messages, half normal; half hate speech\n",
    "stormfront_test.label.value_counts()"
   ]
  },
  {
   "cell_type": "code",
   "execution_count": 10,
   "metadata": {},
   "outputs": [],
   "source": [
    "stormfront_train.to_csv('../data/stormfront_train.csv', index=False)\n",
    "stormfront_test.to_csv('../data/stormfront_test.csv', index=False)"
   ]
  }
 ],
 "metadata": {
  "kernelspec": {
   "display_name": "programming_with_python_wa",
   "language": "python",
   "name": "python3"
  },
  "language_info": {
   "codemirror_mode": {
    "name": "ipython",
    "version": 3
   },
   "file_extension": ".py",
   "mimetype": "text/x-python",
   "name": "python",
   "nbconvert_exporter": "python",
   "pygments_lexer": "ipython3",
   "version": "3.12.5"
  }
 },
 "nbformat": 4,
 "nbformat_minor": 2
}
