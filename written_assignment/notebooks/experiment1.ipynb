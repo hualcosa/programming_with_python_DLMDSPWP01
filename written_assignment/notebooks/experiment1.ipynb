{
 "cells": [
  {
   "cell_type": "markdown",
   "metadata": {},
   "source": [
    "---"
   ]
  },
  {
   "cell_type": "code",
   "execution_count": 7,
   "metadata": {},
   "outputs": [],
   "source": [
    "from langchain_openai import ChatOpenAI\n",
    "from langchain_core.prompts import ChatPromptTemplate\n",
    "from langchain_core.pydantic_v1 import BaseModel, Field\n"
   ]
  },
  {
   "cell_type": "code",
   "execution_count": 9,
   "metadata": {},
   "outputs": [],
   "source": [
    "# Define the pydantic class with JSON schema for hate speech detection\n",
    "class HateSpeechAnalysis(BaseModel):\n",
    "    classification: str = Field(\n",
    "        ..., description=\"Classification of the message: 'normal' or 'hate speech'\"\n",
    "    )\n",
    "    confidence: float = Field(\n",
    "        ..., ge=0, le=1, description=\"Confidence score of the classification (0 to 1)\"\n",
    "    )\n",
    "    reasoning: str = Field(..., description=\"Brief explanation for the classification\")\n",
    "\n",
    "    class Config:\n",
    "        schema_extra = {\n",
    "            \"example\": {\n",
    "                \"classification\": \"normal\",\n",
    "                \"confidence\": 0.95,\n",
    "                \"reasoning\": \"The message contains no offensive language or discriminatory content.\",\n",
    "            }\n",
    "        }\n"
   ]
  },
  {
   "cell_type": "code",
   "execution_count": 10,
   "metadata": {},
   "outputs": [],
   "source": [
    "# Initialize the ChatOpenAI model\n",
    "llm = ChatOpenAI(\n",
    "    model=\"gpt-4o-2024-05-13\",\n",
    "    temperature=0,\n",
    ")\n"
   ]
  },
  {
   "cell_type": "code",
   "execution_count": 11,
   "metadata": {},
   "outputs": [],
   "source": [
    "# Create a prompt template for hate speech detection\n",
    "prompt = ChatPromptTemplate.from_messages([\n",
    "    (\n",
    "        \"system\",\n",
    "        \"You are an AI trained to detect hate speech. Analyze the given message and determine if it's normal or hate speech. Provide a classification, confidence score, and brief reasoning.\",\n",
    "    ),\n",
    "    (\"human\", \"Analyze the following message for hate speech: {message}\"),\n",
    "])\n"
   ]
  },
  {
   "cell_type": "code",
   "execution_count": 12,
   "metadata": {},
   "outputs": [],
   "source": [
    "# Create the chain with structured output\n",
    "chain = prompt | llm.with_structured_output(HateSpeechAnalysis)\n"
   ]
  },
  {
   "cell_type": "code",
   "execution_count": 13,
   "metadata": {},
   "outputs": [
    {
     "name": "stdout",
     "output_type": "stream",
     "text": [
      "\n",
      "Analysis for: 'I love spending time with my family and friends.'\n",
      "Classification: normal\n",
      "Confidence: 1.00\n",
      "Reasoning: The message expresses positive sentiments about spending time with family and friends and contains no harmful or offensive language.\n",
      "\n",
      "Analysis for: 'All people from that country are criminals and should be deported!'\n",
      "Classification: hate speech\n",
      "Confidence: 0.95\n",
      "Reasoning: The message makes a sweeping generalization about people from a specific country, labeling them all as criminals. It also calls for their deportation, which is a harmful and discriminatory action. Such statements promote xenophobia and discrimination.\n",
      "\n",
      "Analysis for: 'The weather is beautiful today.'\n",
      "Classification: normal\n",
      "Confidence: 1.00\n",
      "Reasoning: The message is a neutral statement about the weather and does not contain any language that could be considered hateful or offensive.\n"
     ]
    }
   ],
   "source": [
    "# Example messages to test\n",
    "messages = [\n",
    "    \"I love spending time with my family and friends.\",\n",
    "    \"All people from that country are criminals and should be deported!\",\n",
    "    \"The weather is beautiful today.\",\n",
    "]\n",
    "\n",
    "for message in messages:\n",
    "    result = chain.invoke({\"message\": message})\n",
    "    print(f\"\\nAnalysis for: '{message}'\")\n",
    "    print(f\"Classification: {result.classification}\")\n",
    "    print(f\"Confidence: {result.confidence:.2f}\")\n",
    "    print(f\"Reasoning: {result.reasoning}\")"
   ]
  },
  {
   "cell_type": "markdown",
   "metadata": {},
   "source": [
    "# now let's use this configuration to process the messages in the processed hateXplain dataset"
   ]
  },
  {
   "cell_type": "code",
   "execution_count": null,
   "metadata": {},
   "outputs": [],
   "source": []
  }
 ],
 "metadata": {
  "kernelspec": {
   "display_name": "programming_with_python_wa",
   "language": "python",
   "name": "python3"
  },
  "language_info": {
   "codemirror_mode": {
    "name": "ipython",
    "version": 3
   },
   "file_extension": ".py",
   "mimetype": "text/x-python",
   "name": "python",
   "nbconvert_exporter": "python",
   "pygments_lexer": "ipython3",
   "version": "3.12.5"
  }
 },
 "nbformat": 4,
 "nbformat_minor": 2
}
