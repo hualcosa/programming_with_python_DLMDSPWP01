{
 "cells": [
  {
   "cell_type": "code",
   "execution_count": 3,
   "metadata": {},
   "outputs": [
    {
     "data": {
      "text/plain": [
       "True"
      ]
     },
     "execution_count": 3,
     "metadata": {},
     "output_type": "execute_result"
    }
   ],
   "source": [
    "from langchain_openai import ChatOpenAI\n",
    "from langchain_core.prompts import ChatPromptTemplate\n",
    "from pydantic import BaseModel, Field\n",
    "from tqdm import tqdm\n",
    "import pandas as pd\n",
    "import os\n",
    "import pickle\n",
    "\n",
    "# loading environment variables from .env file\n",
    "from dotenv import load_dotenv\n",
    "load_dotenv()"
   ]
  },
  {
   "cell_type": "code",
   "execution_count": 5,
   "metadata": {},
   "outputs": [],
   "source": [
    "# Define the pydantic class with JSON schema for hate speech detection\n",
    "class HateSpeechAnalysis(BaseModel):\n",
    "    '''\n",
    "    A pydantic class that specifies the json schema of the hate speech detection task\n",
    "    '''\n",
    "    classification: str = Field(\n",
    "        ..., description=\"Classification of the message: 'normal' or 'hate speech'\"\n",
    "    )\n",
    "    confidence: float = Field(\n",
    "        ..., ge=0, le=1, description=\"Confidence score of the classification (0 to 1)\"\n",
    "    )\n",
    "    reasoning: str = Field(..., description=\"Brief explanation for the classification\")\n",
    "\n",
    "    class Config:\n",
    "        json_schema_extra = {\n",
    "            \"example\": {\n",
    "                \"classification\": \"normal\",\n",
    "                \"confidence\": 0.95,\n",
    "                \"reasoning\": \"The message contains no offensive language or discriminatory content.\",\n",
    "            }\n",
    "        }\n"
   ]
  },
  {
   "cell_type": "code",
   "execution_count": 3,
   "metadata": {},
   "outputs": [],
   "source": [
    "# Initialize the ChatOpenAI model\n",
    "llm = ChatOpenAI(\n",
    "    model=\"gpt-4o-mini\",\n",
    "    temperature=0,\n",
    ")\n"
   ]
  },
  {
   "cell_type": "code",
   "execution_count": 4,
   "metadata": {},
   "outputs": [],
   "source": [
    "# Create a prompt template for hate speech detection\n",
    "prompt = ChatPromptTemplate.from_messages([\n",
    "    (\n",
    "        \"system\",\n",
    "        \"You are an AI trained to detect hate speech.\"\n",
    "        \"Analyze the given message and determine if it's normal or hate speech.\"\n",
    "        \"Provide a classification, confidence score, and brief reasoning.\",\n",
    "    ),\n",
    "    (\"human\", \"Analyze the following message for hate speech: {message}\"),\n",
    "])\n"
   ]
  },
  {
   "cell_type": "code",
   "execution_count": null,
   "metadata": {},
   "outputs": [],
   "source": [
    "# Create the chain with structured output\n",
    "chain = prompt | llm.with_structured_output(HateSpeechAnalysis, include_raw=True)\n"
   ]
  },
  {
   "cell_type": "code",
   "execution_count": null,
   "metadata": {},
   "outputs": [],
   "source": [
    "# Example messages to test\n",
    "messages = [\n",
    "    \"I love spending time with my family and friends.\",\n",
    "    \"All people from that country are criminals and should be deported!\",\n",
    "    \"The weather is beautiful today.\",\n",
    "    \"All these black niggers are destroying our country\",\n",
    "    \"I liked today's party a lot!\"\n",
    "]\n",
    "results = []\n",
    "for message in messages:\n",
    "    result = chain.invoke({\"message\": message})\n",
    "    results.append(result)\n",
    "    print(f\"\\nAnalysis for: '{message}'\")\n",
    "    print(f\"Classification: {result['parsed'].classification}\")\n",
    "    print(f\"Confidence: {result['parsed'].confidence:.2f}\")\n",
    "    print(f\"Reasoning: {result['parsed'].reasoning}\")"
   ]
  },
  {
   "cell_type": "code",
   "execution_count": null,
   "metadata": {},
   "outputs": [],
   "source": [
    "results[0]['raw'].response_metadata"
   ]
  },
  {
   "cell_type": "code",
   "execution_count": 36,
   "metadata": {},
   "outputs": [],
   "source": [
    "records = []\n",
    "for idx in range(len(results)):\n",
    "    record = {\n",
    "    'id': results[idx]['raw'].id,\n",
    "    'prompt_tokens': results[idx]['raw'].response_metadata['token_usage']['prompt_tokens'],\n",
    "    'completion_tokens': results[idx]['raw'].response_metadata['token_usage']['completion_tokens']\n",
    "    }\n",
    "    records.append(record)"
   ]
  },
  {
   "cell_type": "code",
   "execution_count": null,
   "metadata": {},
   "outputs": [],
   "source": [
    "est_df = pd.DataFrame.from_records(records)\n",
    "est_df['total_tokens'] = est_df['prompt_tokens'] + est_df['completion_tokens']\n",
    "est_df[['prompt_tokens', 'completion_tokens', 'total_tokens']].mean()"
   ]
  },
  {
   "cell_type": "code",
   "execution_count": null,
   "metadata": {},
   "outputs": [],
   "source": [
    "### usage estimates running the code (sequentially)\n",
    "# RPM (Requests per minute) = 60\n",
    "# TPM (tokens per minute) = 60 * 220 = 13200"
   ]
  },
  {
   "cell_type": "markdown",
   "metadata": {},
   "source": [
    "# now let's use this configuration to process the messages in the hateXplain dataset"
   ]
  },
  {
   "cell_type": "code",
   "execution_count": 4,
   "metadata": {},
   "outputs": [
    {
     "data": {
      "text/html": [
       "<div>\n",
       "<style scoped>\n",
       "    .dataframe tbody tr th:only-of-type {\n",
       "        vertical-align: middle;\n",
       "    }\n",
       "\n",
       "    .dataframe tbody tr th {\n",
       "        vertical-align: top;\n",
       "    }\n",
       "\n",
       "    .dataframe thead th {\n",
       "        text-align: right;\n",
       "    }\n",
       "</style>\n",
       "<table border=\"1\" class=\"dataframe\">\n",
       "  <thead>\n",
       "    <tr style=\"text-align: right;\">\n",
       "      <th></th>\n",
       "      <th>id</th>\n",
       "      <th>clean_message</th>\n",
       "      <th>majority_vote</th>\n",
       "      <th>relevant_pieces</th>\n",
       "    </tr>\n",
       "  </thead>\n",
       "  <tbody>\n",
       "    <tr>\n",
       "      <th>0</th>\n",
       "      <td>1252707503441313794_twitter</td>\n",
       "      <td>why are you repeating yourself are you a littl...</td>\n",
       "      <td>hate speech</td>\n",
       "      <td>retarded</td>\n",
       "    </tr>\n",
       "    <tr>\n",
       "      <th>1</th>\n",
       "      <td>1103385226921762816_twitter</td>\n",
       "      <td>well she ’ muslim so of course she hates the j...</td>\n",
       "      <td>normal</td>\n",
       "      <td>muslim she hates the jews jew hatred islam</td>\n",
       "    </tr>\n",
       "    <tr>\n",
       "      <th>2</th>\n",
       "      <td>1169443635869487105_twitter</td>\n",
       "      <td>lol not me i don ’ t deal with bms not outside...</td>\n",
       "      <td>hate speech</td>\n",
       "      <td>ghetto</td>\n",
       "    </tr>\n",
       "    <tr>\n",
       "      <th>3</th>\n",
       "      <td>17372469_gab</td>\n",
       "      <td>an these nigger biches look like godzilla nasty</td>\n",
       "      <td>normal</td>\n",
       "      <td>nigger</td>\n",
       "    </tr>\n",
       "    <tr>\n",
       "      <th>4</th>\n",
       "      <td>1168407844095483904_twitter</td>\n",
       "      <td>yeah humnh what how do i use this app i ’ m al...</td>\n",
       "      <td>hate speech</td>\n",
       "      <td>retarded</td>\n",
       "    </tr>\n",
       "  </tbody>\n",
       "</table>\n",
       "</div>"
      ],
      "text/plain": [
       "                            id  \\\n",
       "0  1252707503441313794_twitter   \n",
       "1  1103385226921762816_twitter   \n",
       "2  1169443635869487105_twitter   \n",
       "3                 17372469_gab   \n",
       "4  1168407844095483904_twitter   \n",
       "\n",
       "                                       clean_message majority_vote  \\\n",
       "0  why are you repeating yourself are you a littl...   hate speech   \n",
       "1  well she ’ muslim so of course she hates the j...        normal   \n",
       "2  lol not me i don ’ t deal with bms not outside...   hate speech   \n",
       "3    an these nigger biches look like godzilla nasty        normal   \n",
       "4  yeah humnh what how do i use this app i ’ m al...   hate speech   \n",
       "\n",
       "                              relevant_pieces  \n",
       "0                                    retarded  \n",
       "1  muslim she hates the jews jew hatred islam  \n",
       "2                                      ghetto  \n",
       "3                                      nigger  \n",
       "4                                    retarded  "
      ]
     },
     "execution_count": 4,
     "metadata": {},
     "output_type": "execute_result"
    }
   ],
   "source": [
    "dataset = pd.read_csv('../data/hateXplain_clean.csv')\n",
    "dataset.head()"
   ]
  },
  {
   "cell_type": "code",
   "execution_count": 7,
   "metadata": {},
   "outputs": [
    {
     "data": {
      "text/plain": [
       "(1142, 4)"
      ]
     },
     "execution_count": 7,
     "metadata": {},
     "output_type": "execute_result"
    }
   ],
   "source": [
    "dataset.shape"
   ]
  },
  {
   "cell_type": "code",
   "execution_count": 8,
   "metadata": {},
   "outputs": [],
   "source": [
    "# Prepare the input data\n",
    "input_data = [{\"message\": msg} for msg in dataset[\"clean_message\"]]\n"
   ]
  },
  {
   "cell_type": "code",
   "execution_count": 10,
   "metadata": {},
   "outputs": [
    {
     "name": "stderr",
     "output_type": "stream",
     "text": [
      "100%|██████████| 1142/1142 [24:45<00:00,  1.30s/it]\n"
     ]
    }
   ],
   "source": [
    "classification_results = []\n",
    "# perform inference sequentially\n",
    "for idx, input in tqdm(enumerate(input_data), total=len(input_data)):\n",
    "    try:\n",
    "        result = chain.invoke(input)\n",
    "        classification_results.append(result)\n",
    "    except:\n",
    "        print(f\"problem processing message with index {idx}. Adding a placeholder to the classification results\")\n",
    "        classification_results.append(None)\n"
   ]
  },
  {
   "cell_type": "markdown",
   "metadata": {},
   "source": [
    "### Parsing classification results"
   ]
  },
  {
   "cell_type": "code",
   "execution_count": 11,
   "metadata": {},
   "outputs": [
    {
     "data": {
      "text/plain": [
       "{'raw': AIMessage(content='', additional_kwargs={'tool_calls': [{'id': 'call_5pCyXjjDRVMY2v6fVFB8jjZc', 'function': {'arguments': '{\"classification\":\"hate speech\",\"confidence\":0.85,\"reasoning\":\"The term \\'retarded\\' is considered derogatory and offensive when used to describe someone\\'s mental capacity. This language can perpetuate stigma against individuals with intellectual disabilities, which classifies it as hate speech.\"}', 'name': 'HateSpeechAnalysis'}, 'type': 'function'}], 'refusal': None}, response_metadata={'token_usage': {'completion_tokens': 56, 'prompt_tokens': 175, 'total_tokens': 231, 'completion_tokens_details': {'reasoning_tokens': 0}}, 'model_name': 'gpt-4o-mini-2024-07-18', 'system_fingerprint': 'fp_1bb46167f9', 'finish_reason': 'stop', 'logprobs': None}, id='run-9ad6dbca-b50d-40ee-9a39-0db9b4854631-0', tool_calls=[{'name': 'HateSpeechAnalysis', 'args': {'classification': 'hate speech', 'confidence': 0.85, 'reasoning': \"The term 'retarded' is considered derogatory and offensive when used to describe someone's mental capacity. This language can perpetuate stigma against individuals with intellectual disabilities, which classifies it as hate speech.\"}, 'id': 'call_5pCyXjjDRVMY2v6fVFB8jjZc', 'type': 'tool_call'}], usage_metadata={'input_tokens': 175, 'output_tokens': 56, 'total_tokens': 231}),\n",
       " 'parsed': HateSpeechAnalysis(classification='hate speech', confidence=0.85, reasoning=\"The term 'retarded' is considered derogatory and offensive when used to describe someone's mental capacity. This language can perpetuate stigma against individuals with intellectual disabilities, which classifies it as hate speech.\"),\n",
       " 'parsing_error': None}"
      ]
     },
     "execution_count": 11,
     "metadata": {},
     "output_type": "execute_result"
    }
   ],
   "source": [
    "classification_results[0]"
   ]
  },
  {
   "cell_type": "code",
   "execution_count": 16,
   "metadata": {},
   "outputs": [
    {
     "data": {
      "text/plain": [
       "1142"
      ]
     },
     "execution_count": 16,
     "metadata": {},
     "output_type": "execute_result"
    }
   ],
   "source": [
    "len(classification_results)"
   ]
  },
  {
   "cell_type": "code",
   "execution_count": 7,
   "metadata": {},
   "outputs": [],
   "source": [
    "# Creating the columns\n",
    "dataset['classification'] = ''\n",
    "dataset['confidence'] = ''\n",
    "dataset['reasoning'] = ''\n",
    "\n",
    "# populating the columns\n",
    "for idx in range(len(dataset)):\n",
    "    dataset.loc[idx, 'classification'] = classification_results[idx]['parsed'].classification\n",
    "    dataset.loc[idx, 'confidence'] = classification_results[idx][\"parsed\"].confidence\n",
    "    dataset.loc[idx, 'reasoning'] = classification_results[idx][\"parsed\"].reasoning"
   ]
  },
  {
   "cell_type": "code",
   "execution_count": 8,
   "metadata": {},
   "outputs": [
    {
     "data": {
      "text/html": [
       "<div>\n",
       "<style scoped>\n",
       "    .dataframe tbody tr th:only-of-type {\n",
       "        vertical-align: middle;\n",
       "    }\n",
       "\n",
       "    .dataframe tbody tr th {\n",
       "        vertical-align: top;\n",
       "    }\n",
       "\n",
       "    .dataframe thead th {\n",
       "        text-align: right;\n",
       "    }\n",
       "</style>\n",
       "<table border=\"1\" class=\"dataframe\">\n",
       "  <thead>\n",
       "    <tr style=\"text-align: right;\">\n",
       "      <th></th>\n",
       "      <th>id</th>\n",
       "      <th>clean_message</th>\n",
       "      <th>majority_vote</th>\n",
       "      <th>relevant_pieces</th>\n",
       "      <th>classification</th>\n",
       "      <th>confidence</th>\n",
       "      <th>reasoning</th>\n",
       "    </tr>\n",
       "  </thead>\n",
       "  <tbody>\n",
       "    <tr>\n",
       "      <th>0</th>\n",
       "      <td>1252707503441313794_twitter</td>\n",
       "      <td>why are you repeating yourself are you a littl...</td>\n",
       "      <td>hate speech</td>\n",
       "      <td>retarded</td>\n",
       "      <td>hate speech</td>\n",
       "      <td>0.85</td>\n",
       "      <td>The term 'retarded' is considered derogatory a...</td>\n",
       "    </tr>\n",
       "    <tr>\n",
       "      <th>1</th>\n",
       "      <td>1103385226921762816_twitter</td>\n",
       "      <td>well she ’ muslim so of course she hates the j...</td>\n",
       "      <td>normal</td>\n",
       "      <td>muslim she hates the jews jew hatred islam</td>\n",
       "      <td>hate speech</td>\n",
       "      <td>0.95</td>\n",
       "      <td>The message contains a generalization about Mu...</td>\n",
       "    </tr>\n",
       "    <tr>\n",
       "      <th>2</th>\n",
       "      <td>1169443635869487105_twitter</td>\n",
       "      <td>lol not me i don ’ t deal with bms not outside...</td>\n",
       "      <td>hate speech</td>\n",
       "      <td>ghetto</td>\n",
       "      <td>hate speech</td>\n",
       "      <td>0.85</td>\n",
       "      <td>The message contains derogatory language ('ghe...</td>\n",
       "    </tr>\n",
       "    <tr>\n",
       "      <th>3</th>\n",
       "      <td>17372469_gab</td>\n",
       "      <td>an these nigger biches look like godzilla nasty</td>\n",
       "      <td>normal</td>\n",
       "      <td>nigger</td>\n",
       "      <td>hate speech</td>\n",
       "      <td>0.95</td>\n",
       "      <td>The message contains a racial slur ('nigger') ...</td>\n",
       "    </tr>\n",
       "    <tr>\n",
       "      <th>4</th>\n",
       "      <td>1168407844095483904_twitter</td>\n",
       "      <td>yeah humnh what how do i use this app i ’ m al...</td>\n",
       "      <td>hate speech</td>\n",
       "      <td>retarded</td>\n",
       "      <td>hate speech</td>\n",
       "      <td>0.85</td>\n",
       "      <td>The use of the term 'retarded' is derogatory a...</td>\n",
       "    </tr>\n",
       "  </tbody>\n",
       "</table>\n",
       "</div>"
      ],
      "text/plain": [
       "                            id  \\\n",
       "0  1252707503441313794_twitter   \n",
       "1  1103385226921762816_twitter   \n",
       "2  1169443635869487105_twitter   \n",
       "3                 17372469_gab   \n",
       "4  1168407844095483904_twitter   \n",
       "\n",
       "                                       clean_message majority_vote  \\\n",
       "0  why are you repeating yourself are you a littl...   hate speech   \n",
       "1  well she ’ muslim so of course she hates the j...        normal   \n",
       "2  lol not me i don ’ t deal with bms not outside...   hate speech   \n",
       "3    an these nigger biches look like godzilla nasty        normal   \n",
       "4  yeah humnh what how do i use this app i ’ m al...   hate speech   \n",
       "\n",
       "                              relevant_pieces classification confidence  \\\n",
       "0                                    retarded    hate speech       0.85   \n",
       "1  muslim she hates the jews jew hatred islam    hate speech       0.95   \n",
       "2                                      ghetto    hate speech       0.85   \n",
       "3                                      nigger    hate speech       0.95   \n",
       "4                                    retarded    hate speech       0.85   \n",
       "\n",
       "                                           reasoning  \n",
       "0  The term 'retarded' is considered derogatory a...  \n",
       "1  The message contains a generalization about Mu...  \n",
       "2  The message contains derogatory language ('ghe...  \n",
       "3  The message contains a racial slur ('nigger') ...  \n",
       "4  The use of the term 'retarded' is derogatory a...  "
      ]
     },
     "execution_count": 8,
     "metadata": {},
     "output_type": "execute_result"
    }
   ],
   "source": [
    "dataset.head()"
   ]
  },
  {
   "cell_type": "code",
   "execution_count": 10,
   "metadata": {},
   "outputs": [
    {
     "data": {
      "image/png": "[encoded data removed]",
      "text/plain": [
       "<Figure size 1000x800 with 1 Axes>"
      ]
     },
     "metadata": {},
     "output_type": "display_data"
    }
   ],
   "source": [
    "from sklearn.metrics import confusion_matrix\n",
    "import seaborn as sns\n",
    "import matplotlib.pyplot as plt\n",
    "import numpy as np\n",
    "\n",
    "label_to_int = {'normal': 0, 'hate speech': 1}\n",
    "y_true = dataset[\"majority_vote\"].map(label_to_int)\n",
    "y_pred = dataset[\"classification\"].map(label_to_int)\n",
    "# Create the confusion matrix\n",
    "\n",
    "cm = confusion_matrix(y_true, y_pred)\n",
    "\n",
    "# Create labels for the classes \n",
    "class_names = [\"normal\", \"hate speech\"] \n",
    "\n",
    "# Create a figure and axis\n",
    "plt.figure(figsize=(10, 8))\n",
    "\n",
    "# Create the heatmap\n",
    "sns.heatmap(\n",
    "    cm,\n",
    "    annot=True,\n",
    "    fmt=\"d\",\n",
    "    cmap=\"Blues\",\n",
    "    xticklabels=class_names,\n",
    "    yticklabels=class_names,\n",
    "    cbar=False\n",
    ")\n",
    "\n",
    "# Set title and labels\n",
    "plt.title(\"Confusion Matrix\", fontsize=16)\n",
    "plt.xlabel(\"Predicted\", fontsize=12)\n",
    "plt.ylabel(\"Actual\", fontsize=12)\n",
    "\n",
    "# Adjust layout and display the plot\n",
    "plt.tight_layout()\n",
    "plt.show()\n"
   ]
  },
  {
   "cell_type": "code",
   "execution_count": 11,
   "metadata": {},
   "outputs": [
    {
     "name": "stdout",
     "output_type": "stream",
     "text": [
      "              precision    recall  f1-score   support\n",
      "\n",
      "           0       0.04      0.01      0.01       594\n",
      "           1       0.44      0.85      0.58       548\n",
      "\n",
      "    accuracy                           0.41      1142\n",
      "   macro avg       0.24      0.43      0.29      1142\n",
      "weighted avg       0.23      0.41      0.28      1142\n",
      "\n"
     ]
    }
   ],
   "source": [
    "from sklearn.metrics import classification_report, roc_auc_score, roc_auc_score\n",
    "print(classification_report(y_true, y_pred))"
   ]
  },
  {
   "cell_type": "code",
   "execution_count": 12,
   "metadata": {},
   "outputs": [
    {
     "data": {
      "image/png": "[encoded data removed]",
      "text/plain": [
       "<Figure size 1000x800 with 1 Axes>"
      ]
     },
     "metadata": {},
     "output_type": "display_data"
    }
   ],
   "source": [
    "import numpy as np\n",
    "import matplotlib.pyplot as plt\n",
    "from sklearn.metrics import roc_curve, roc_auc_score\n",
    "\n",
    "# Get the predicted probabilities\n",
    "y_scores = dataset[\"confidence\"]\n",
    "\n",
    "fpr, tpr, thresholds = roc_curve(y_true, y_scores)\n",
    "\n",
    "# Calculate the ROC AUC score\n",
    "roc_auc = roc_auc_score(y_true, y_scores)\n",
    "\n",
    "# Plot the ROC curve\n",
    "plt.figure(figsize=(10, 8))\n",
    "plt.plot(fpr, tpr, color=\"blue\", lw=2, label=f\"ROC curve (AUC = {roc_auc:.2f})\")\n",
    "plt.plot([0, 1], [0, 1], color=\"red\", lw=2, linestyle=\"--\", label=\"Random Classifier\")\n",
    "plt.xlim([0.0, 1.0])\n",
    "plt.ylim([0.0, 1.05])\n",
    "plt.xlabel(\"False Positive Rate\")\n",
    "plt.ylabel(\"True Positive Rate\")\n",
    "plt.title(\"Receiver Operating Characteristic (ROC) Curve\")\n",
    "plt.legend(loc=\"lower right\")\n",
    "plt.grid(True)\n",
    "\n",
    "# Show the plot\n",
    "plt.show()\n"
   ]
  },
  {
   "cell_type": "code",
   "execution_count": 14,
   "metadata": {},
   "outputs": [],
   "source": [
    "dataset.to_csv('../data/final_dataset_exp1.csv', index=False)"
   ]
  }
 ],
 "metadata": {
  "kernelspec": {
   "display_name": "programming_with_python_wa",
   "language": "python",
   "name": "python3"
  },
  "language_info": {
   "codemirror_mode": {
    "name": "ipython",
    "version": 3
   },
   "file_extension": ".py",
   "mimetype": "text/x-python",
   "name": "python",
   "nbconvert_exporter": "python",
   "pygments_lexer": "ipython3",
   "version": "3.12.5"
  }
 },
 "nbformat": 4,
 "nbformat_minor": 2
}
